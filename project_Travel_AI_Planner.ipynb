{
  "nbformat": 4,
  "nbformat_minor": 0,
  "metadata": {
    "colab": {
      "provenance": [],
      "authorship_tag": "ABX9TyOWA1+GkRGJu5M6LrC0cfdk",
      "include_colab_link": true
    },
    "kernelspec": {
      "name": "python3",
      "display_name": "Python 3"
    },
    "language_info": {
      "name": "python"
    }
  },
  "cells": [
    {
      "cell_type": "markdown",
      "metadata": {
        "id": "view-in-github",
        "colab_type": "text"
      },
      "source": [
        "<a href=\"https://colab.research.google.com/github/DauraRady/AI-travel-Planner/blob/main/project_Travel_AI_Planner.ipynb\" target=\"_parent\"><img src=\"https://colab.research.google.com/assets/colab-badge.svg\" alt=\"Open In Colab\"/></a>"
      ]
    },
    {
      "cell_type": "code",
      "execution_count": null,
      "metadata": {
        "colab": {
          "base_uri": "https://localhost:8080/",
          "height": 1000
        },
        "id": "uhEqFtHiG4HX",
        "outputId": "55e50e69-9d41-485b-e699-7af6dcf89c3b"
      },
      "outputs": [
        {
          "output_type": "display_data",
          "data": {
            "text/plain": [
              "\u001b[1;35mBienvenue sur mon AI Travel Planner Itinéraire !\u001b[0m\n"
            ],
            "text/html": [
              "<pre style=\"white-space:pre;overflow-x:auto;line-height:normal;font-family:Menlo,'DejaVu Sans Mono',consolas,'Courier New',monospace\"><span style=\"color: #800080; text-decoration-color: #800080; font-weight: bold\">Bienvenue sur mon AI Travel Planner Itinéraire !</span>\n",
              "</pre>\n"
            ]
          },
          "metadata": {}
        },
        {
          "output_type": "display_data",
          "data": {
            "text/plain": [
              "\u001b[3;36mPréparez-vous à explorer vos prochaines aventures avec style et précision. 🚀\u001b[0m\n"
            ],
            "text/html": [
              "<pre style=\"white-space:pre;overflow-x:auto;line-height:normal;font-family:Menlo,'DejaVu Sans Mono',consolas,'Courier New',monospace\"><span style=\"color: #008080; text-decoration-color: #008080; font-style: italic\">Préparez-vous à explorer vos prochaines aventures avec style et précision. 🚀</span>\n",
              "</pre>\n"
            ]
          },
          "metadata": {}
        },
        {
          "name": "stdout",
          "output_type": "stream",
          "text": [
            "Entrez le lieu de départ : Paris\n",
            "Entrez la destination : Madrid\n",
            "Entrez la durée du voyage (en jours) : 7\n"
          ]
        },
        {
          "output_type": "display_data",
          "data": {
            "text/plain": [
              "Calcul de l'itinéraire ! 🚀\n"
            ],
            "text/html": [
              "<pre style=\"white-space:pre;overflow-x:auto;line-height:normal;font-family:Menlo,'DejaVu Sans Mono',consolas,'Courier New',monospace\">Calcul de l'itinéraire ! 🚀\n",
              "</pre>\n"
            ]
          },
          "metadata": {}
        },
        {
          "output_type": "display_data",
          "data": {
            "text/plain": [
              "Bien sûr ! Voici un itinéraire détaillé pour votre voyage de 7 jours de Paris à Madrid ✈️🗺️ :                        \n",
              "\n",
              "                                               \u001b[1m1. Résumé du trajet 🛣️\u001b[0m                                               \n",
              "\n",
              "                                                                                        \n",
              " \u001b[1m \u001b[0m\u001b[1mJour\u001b[0m\u001b[1m \u001b[0m \u001b[1m \u001b[0m\u001b[1mÉtape\u001b[0m\u001b[1m             \u001b[0m\u001b[1m \u001b[0m \u001b[1m \u001b[0m\u001b[1mActivités suggérées\u001b[0m\u001b[1m                                     \u001b[0m\u001b[1m \u001b[0m \n",
              " ━━━━━━━━━━━━━━━━━━━━━━━━━━━━━━━━━━━━━━━━━━━━━━━━━━━━━━━━━━━━━━━━━━━━━━━━━━━━━━━━━━━━━━ \n",
              "  1      Paris à Barcelone    Visite de la Sagrada Familia et des Ramblas               \n",
              "  2      Barcelone            Explorer le Parc Güell et la plage de Barceloneta         \n",
              "  3      Barcelone à Madrid   Visite du Palais Royal et du Parc du Retiro               \n",
              "  4      Madrid               Découverte du musée du Prado et de la Puerta del Sol      \n",
              "  5      Excursion à Toledo   Visite de la vieille ville et de la cathédrale            \n",
              "  6      Madrid à Séville     Découverte de la cathédrale et du quartier de Santa Cruz  \n",
              "  7      Séville à Madrid     Retour à Madrid, shopping et retour à Paris               \n",
              "                                                                                        \n",
              "\n",
              "                                            \u001b[1m2. Moyens de transport 🚗✈️\u001b[0m                                             \n",
              "\n",
              "\u001b[1;33m 1 \u001b[0m\u001b[1mParis à Barcelone :\u001b[0m                                                                                             \n",
              "\u001b[1;33m   \u001b[0m\u001b[1;33m • \u001b[0m\u001b[1mMoyen de transport\u001b[0m : Avion                                                                                   \n",
              "\u001b[1;33m   \u001b[0m\u001b[1;33m • \u001b[0m\u001b[1mVol\u001b[0m : Air France                                                                                             \n",
              "\u001b[1;33m   \u001b[0m\u001b[1;33m • \u001b[0m\u001b[1mDépart\u001b[0m : 08h30 à partir de l’aéroport Charles de Gaulle                                                      \n",
              "\u001b[1;33m   \u001b[0m\u001b[1;33m • \u001b[0m\u001b[1mArrivée\u001b[0m : 10h00 à l’aéroport de Barcelone-El Prat                                                            \n",
              "\u001b[1;33m 2 \u001b[0m\u001b[1mBarcelone à Madrid :\u001b[0m                                                                                            \n",
              "\u001b[1;33m   \u001b[0m\u001b[1;33m • \u001b[0m\u001b[1mMoyen de transport\u001b[0m : Train à grande vitesse (AVE)                                                            \n",
              "\u001b[1;33m   \u001b[0m\u001b[1;33m • \u001b[0m\u001b[1mDépart\u001b[0m : 09h00 de la Gare Sants                                                                              \n",
              "\u001b[1;33m   \u001b[0m\u001b[1;33m • \u001b[0m\u001b[1mArrivée\u001b[0m : 10h30 à la Gare Atocha                                                                             \n",
              "\u001b[1;33m 3 \u001b[0m\u001b[1mMadrid à Séville :\u001b[0m                                                                                              \n",
              "\u001b[1;33m   \u001b[0m\u001b[1;33m • \u001b[0m\u001b[1mMoyen de transport\u001b[0m : Train à grande vitesse (AVE)                                                            \n",
              "\u001b[1;33m   \u001b[0m\u001b[1;33m • \u001b[0m\u001b[1mDépart\u001b[0m : 11h00 de la Gare Atocha                                                                             \n",
              "\u001b[1;33m   \u001b[0m\u001b[1;33m • \u001b[0m\u001b[1mArrivée\u001b[0m : 12h30 à la Gare Santa Justa                                                                        \n",
              "\u001b[1;33m 4 \u001b[0m\u001b[1mSéville à Madrid :\u001b[0m                                                                                              \n",
              "\u001b[1;33m   \u001b[0m\u001b[1;33m • \u001b[0m\u001b[1mMoyen de transport\u001b[0m : Train à grande vitesse (AVE)                                                            \n",
              "\u001b[1;33m   \u001b[0m\u001b[1;33m • \u001b[0m\u001b[1mDépart\u001b[0m : 16h00 de la Gare Santa Justa                                                                        \n",
              "\u001b[1;33m   \u001b[0m\u001b[1;33m • \u001b[0m\u001b[1mArrivée\u001b[0m : 17h30 à la Gare Atocha                                                                             \n",
              "\u001b[1;33m 5 \u001b[0m                                                                                                                \n",
              "\u001b[1;33m   \u001b[0m                                                \u001b[1;4mMadrid à Paris :\u001b[0m                                                \n"
            ],
            "text/html": [
              "<pre style=\"white-space:pre;overflow-x:auto;line-height:normal;font-family:Menlo,'DejaVu Sans Mono',consolas,'Courier New',monospace\">Bien sûr ! Voici un itinéraire détaillé pour votre voyage de 7 jours de Paris à Madrid ✈️🗺️ :                        \n",
              "\n",
              "                                               <span style=\"font-weight: bold\">1. Résumé du trajet 🛣️</span>                                               \n",
              "\n",
              "                                                                                        \n",
              " <span style=\"font-weight: bold\"> Jour </span> <span style=\"font-weight: bold\"> Étape              </span> <span style=\"font-weight: bold\"> Activités suggérées                                      </span> \n",
              " ━━━━━━━━━━━━━━━━━━━━━━━━━━━━━━━━━━━━━━━━━━━━━━━━━━━━━━━━━━━━━━━━━━━━━━━━━━━━━━━━━━━━━━ \n",
              "  1      Paris à Barcelone    Visite de la Sagrada Familia et des Ramblas               \n",
              "  2      Barcelone            Explorer le Parc Güell et la plage de Barceloneta         \n",
              "  3      Barcelone à Madrid   Visite du Palais Royal et du Parc du Retiro               \n",
              "  4      Madrid               Découverte du musée du Prado et de la Puerta del Sol      \n",
              "  5      Excursion à Toledo   Visite de la vieille ville et de la cathédrale            \n",
              "  6      Madrid à Séville     Découverte de la cathédrale et du quartier de Santa Cruz  \n",
              "  7      Séville à Madrid     Retour à Madrid, shopping et retour à Paris               \n",
              "                                                                                        \n",
              "\n",
              "                                            <span style=\"font-weight: bold\">2. Moyens de transport 🚗✈️</span>                                             \n",
              "\n",
              "<span style=\"color: #808000; text-decoration-color: #808000; font-weight: bold\"> 1 </span><span style=\"font-weight: bold\">Paris à Barcelone :</span>                                                                                             \n",
              "<span style=\"color: #808000; text-decoration-color: #808000; font-weight: bold\">    • </span><span style=\"font-weight: bold\">Moyen de transport</span> : Avion                                                                                   \n",
              "<span style=\"color: #808000; text-decoration-color: #808000; font-weight: bold\">    • </span><span style=\"font-weight: bold\">Vol</span> : Air France                                                                                             \n",
              "<span style=\"color: #808000; text-decoration-color: #808000; font-weight: bold\">    • </span><span style=\"font-weight: bold\">Départ</span> : 08h30 à partir de l’aéroport Charles de Gaulle                                                      \n",
              "<span style=\"color: #808000; text-decoration-color: #808000; font-weight: bold\">    • </span><span style=\"font-weight: bold\">Arrivée</span> : 10h00 à l’aéroport de Barcelone-El Prat                                                            \n",
              "<span style=\"color: #808000; text-decoration-color: #808000; font-weight: bold\"> 2 </span><span style=\"font-weight: bold\">Barcelone à Madrid :</span>                                                                                            \n",
              "<span style=\"color: #808000; text-decoration-color: #808000; font-weight: bold\">    • </span><span style=\"font-weight: bold\">Moyen de transport</span> : Train à grande vitesse (AVE)                                                            \n",
              "<span style=\"color: #808000; text-decoration-color: #808000; font-weight: bold\">    • </span><span style=\"font-weight: bold\">Départ</span> : 09h00 de la Gare Sants                                                                              \n",
              "<span style=\"color: #808000; text-decoration-color: #808000; font-weight: bold\">    • </span><span style=\"font-weight: bold\">Arrivée</span> : 10h30 à la Gare Atocha                                                                             \n",
              "<span style=\"color: #808000; text-decoration-color: #808000; font-weight: bold\"> 3 </span><span style=\"font-weight: bold\">Madrid à Séville :</span>                                                                                              \n",
              "<span style=\"color: #808000; text-decoration-color: #808000; font-weight: bold\">    • </span><span style=\"font-weight: bold\">Moyen de transport</span> : Train à grande vitesse (AVE)                                                            \n",
              "<span style=\"color: #808000; text-decoration-color: #808000; font-weight: bold\">    • </span><span style=\"font-weight: bold\">Départ</span> : 11h00 de la Gare Atocha                                                                             \n",
              "<span style=\"color: #808000; text-decoration-color: #808000; font-weight: bold\">    • </span><span style=\"font-weight: bold\">Arrivée</span> : 12h30 à la Gare Santa Justa                                                                        \n",
              "<span style=\"color: #808000; text-decoration-color: #808000; font-weight: bold\"> 4 </span><span style=\"font-weight: bold\">Séville à Madrid :</span>                                                                                              \n",
              "<span style=\"color: #808000; text-decoration-color: #808000; font-weight: bold\">    • </span><span style=\"font-weight: bold\">Moyen de transport</span> : Train à grande vitesse (AVE)                                                            \n",
              "<span style=\"color: #808000; text-decoration-color: #808000; font-weight: bold\">    • </span><span style=\"font-weight: bold\">Départ</span> : 16h00 de la Gare Santa Justa                                                                        \n",
              "<span style=\"color: #808000; text-decoration-color: #808000; font-weight: bold\">    • </span><span style=\"font-weight: bold\">Arrivée</span> : 17h30 à la Gare Atocha                                                                             \n",
              "<span style=\"color: #808000; text-decoration-color: #808000; font-weight: bold\"> 5 </span>                                                                                                                \n",
              "<span style=\"color: #808000; text-decoration-color: #808000; font-weight: bold\">   </span>                                                <span style=\"font-weight: bold; text-decoration: underline\">Madrid à Paris :</span>                                                \n",
              "</pre>\n"
            ]
          },
          "metadata": {}
        },
        {
          "output_type": "display_data",
          "data": {
            "text/plain": [
              "Bien sûr ! Voici votre rapport détaillé sur la météo à Madrid pour les prochains jours, ainsi que des conseils     \n",
              "pratiques pour votre voyage ! 🌞✈️                                                                                  \n",
              "\n",
              "                                 \u001b[1m1. Résumé des conditions météorologiques à Madrid\u001b[0m                                 \n",
              "\n",
              "À partir de maintenant et pour les prochains jours, voici ce que vous pouvez attendre sur le plan météorologique : \n",
              "\n",
              "\u001b[1;33m • \u001b[0m\u001b[1mTempératures\u001b[0m : Les maximale atteindront entre 22°C et 26°C, tandis que les minima varieront de 12°C à 16°C.     \n",
              "\u001b[1;33m • \u001b[0m\u001b[1mPrécipitations\u001b[0m : Faibles chances de pluie, mais quelques averses légères sont possibles, surtout en milieu de   \n",
              "\u001b[1;33m   \u001b[0msemaine.                                                                                                        \n",
              "\u001b[1;33m • \u001b[0m\u001b[1mVent\u001b[0m : Prévisions de vents modérés, soufflant entre 10 et 20 km/h, principalement du sud-est.                   \n",
              "\u001b[1;33m • \u001b[0m\u001b[1mHumidité\u001b[0m : Niveau d'humidité de 50 à 65%, ce qui peut donner une sensation un peu moite lors des journées plus  \n",
              "\u001b[1;33m   \u001b[0mchaudes.                                                                                                        \n",
              "\n",
              "                              \u001b[1m2. Conseils pratiques sur les vêtements et accessoires\u001b[0m                               \n",
              "\n",
              "Étant donné la météo prévue, voici ce que vous devriez envisager d'emporter :                                      \n",
              "\n",
              "\u001b[1;33m • \u001b[0m\u001b[1mVêtements légers\u001b[0m : Prévoyez des t-shirts, des chemises légères et des pantalons. Les vêtements en coton ou en   \n",
              "\u001b[1;33m   \u001b[0mlin sont idéaux pour rester au frais.                                                                           \n",
              "\u001b[1;33m • \u001b[0m\u001b[1mVeste légère\u001b[0m : Une veste ou un pull léger pour les soirées plus fraîches vous sera utile.                       \n",
              "\u001b[1;33m • \u001b[0m\u001b[1mParapluie ou imperméable\u001b[0m : Bien que les précipitations soient faibles, il est toujours bon d’avoir un parapluie \n",
              "\u001b[1;33m   \u001b[0mcompact ou un imperméable à portée de main.                                                                     \n",
              "\u001b[1;33m • \u001b[0m\u001b[1mLunettes de soleil et chapeau\u001b[0m : Pour vous protéger des rayons du soleil durant la journée.                      \n",
              "\u001b[1;33m • \u001b[0m\u001b[1mChaussures confortables\u001b[0m : Des chaussures de marche confortables pour explorer la ville.                         \n",
              "\n",
              "                                \u001b[1m3. Recommandations pour profiter au mieux du séjour\u001b[0m                                \n",
              "\n",
              "\u001b[1;33m • \u001b[0m\u001b[1mActivités en extérieur\u001b[0m : Planifiez vos visites de sites touristiques le matin ou en fin d’après-midi pour éviter\n",
              "\u001b[1;33m   \u001b[0mla chaleur du milieu de journée.                                                                                \n",
              "\u001b[1;33m • \u001b[0m\u001b[1mDégustations locales\u001b[0m : Profitez des terrasses de café et des bars à tapas, surtout en soirée, lorsque la        \n",
              "\u001b[1;33m   \u001b[0mtempérature est plus douce.                                                                                     \n",
              "\u001b[1;33m • \u001b[0m\u001b[1mVisitez les parcs\u001b[0m : Le parc du Retiro est magnifique à cette période de l'année et un bon endroit pour vous     \n",
              "\u001b[1;33m   \u001b[0mdétendre.                                                                                                       \n",
              "\u001b[1;33m • \u001b[0m\u001b[1mEspaces couvert\u001b[0m : En cas de pluie, prévoyez des visites d'attractions int                                       \n"
            ],
            "text/html": [
              "<pre style=\"white-space:pre;overflow-x:auto;line-height:normal;font-family:Menlo,'DejaVu Sans Mono',consolas,'Courier New',monospace\">Bien sûr ! Voici votre rapport détaillé sur la météo à Madrid pour les prochains jours, ainsi que des conseils     \n",
              "pratiques pour votre voyage ! 🌞✈️                                                                                  \n",
              "\n",
              "                                 <span style=\"font-weight: bold\">1. Résumé des conditions météorologiques à Madrid</span>                                 \n",
              "\n",
              "À partir de maintenant et pour les prochains jours, voici ce que vous pouvez attendre sur le plan météorologique : \n",
              "\n",
              "<span style=\"color: #808000; text-decoration-color: #808000; font-weight: bold\"> • </span><span style=\"font-weight: bold\">Températures</span> : Les maximale atteindront entre 22°C et 26°C, tandis que les minima varieront de 12°C à 16°C.     \n",
              "<span style=\"color: #808000; text-decoration-color: #808000; font-weight: bold\"> • </span><span style=\"font-weight: bold\">Précipitations</span> : Faibles chances de pluie, mais quelques averses légères sont possibles, surtout en milieu de   \n",
              "<span style=\"color: #808000; text-decoration-color: #808000; font-weight: bold\">   </span>semaine.                                                                                                        \n",
              "<span style=\"color: #808000; text-decoration-color: #808000; font-weight: bold\"> • </span><span style=\"font-weight: bold\">Vent</span> : Prévisions de vents modérés, soufflant entre 10 et 20 km/h, principalement du sud-est.                   \n",
              "<span style=\"color: #808000; text-decoration-color: #808000; font-weight: bold\"> • </span><span style=\"font-weight: bold\">Humidité</span> : Niveau d'humidité de 50 à 65%, ce qui peut donner une sensation un peu moite lors des journées plus  \n",
              "<span style=\"color: #808000; text-decoration-color: #808000; font-weight: bold\">   </span>chaudes.                                                                                                        \n",
              "\n",
              "                              <span style=\"font-weight: bold\">2. Conseils pratiques sur les vêtements et accessoires</span>                               \n",
              "\n",
              "Étant donné la météo prévue, voici ce que vous devriez envisager d'emporter :                                      \n",
              "\n",
              "<span style=\"color: #808000; text-decoration-color: #808000; font-weight: bold\"> • </span><span style=\"font-weight: bold\">Vêtements légers</span> : Prévoyez des t-shirts, des chemises légères et des pantalons. Les vêtements en coton ou en   \n",
              "<span style=\"color: #808000; text-decoration-color: #808000; font-weight: bold\">   </span>lin sont idéaux pour rester au frais.                                                                           \n",
              "<span style=\"color: #808000; text-decoration-color: #808000; font-weight: bold\"> • </span><span style=\"font-weight: bold\">Veste légère</span> : Une veste ou un pull léger pour les soirées plus fraîches vous sera utile.                       \n",
              "<span style=\"color: #808000; text-decoration-color: #808000; font-weight: bold\"> • </span><span style=\"font-weight: bold\">Parapluie ou imperméable</span> : Bien que les précipitations soient faibles, il est toujours bon d’avoir un parapluie \n",
              "<span style=\"color: #808000; text-decoration-color: #808000; font-weight: bold\">   </span>compact ou un imperméable à portée de main.                                                                     \n",
              "<span style=\"color: #808000; text-decoration-color: #808000; font-weight: bold\"> • </span><span style=\"font-weight: bold\">Lunettes de soleil et chapeau</span> : Pour vous protéger des rayons du soleil durant la journée.                      \n",
              "<span style=\"color: #808000; text-decoration-color: #808000; font-weight: bold\"> • </span><span style=\"font-weight: bold\">Chaussures confortables</span> : Des chaussures de marche confortables pour explorer la ville.                         \n",
              "\n",
              "                                <span style=\"font-weight: bold\">3. Recommandations pour profiter au mieux du séjour</span>                                \n",
              "\n",
              "<span style=\"color: #808000; text-decoration-color: #808000; font-weight: bold\"> • </span><span style=\"font-weight: bold\">Activités en extérieur</span> : Planifiez vos visites de sites touristiques le matin ou en fin d’après-midi pour éviter\n",
              "<span style=\"color: #808000; text-decoration-color: #808000; font-weight: bold\">   </span>la chaleur du milieu de journée.                                                                                \n",
              "<span style=\"color: #808000; text-decoration-color: #808000; font-weight: bold\"> • </span><span style=\"font-weight: bold\">Dégustations locales</span> : Profitez des terrasses de café et des bars à tapas, surtout en soirée, lorsque la        \n",
              "<span style=\"color: #808000; text-decoration-color: #808000; font-weight: bold\">   </span>température est plus douce.                                                                                     \n",
              "<span style=\"color: #808000; text-decoration-color: #808000; font-weight: bold\"> • </span><span style=\"font-weight: bold\">Visitez les parcs</span> : Le parc du Retiro est magnifique à cette période de l'année et un bon endroit pour vous     \n",
              "<span style=\"color: #808000; text-decoration-color: #808000; font-weight: bold\">   </span>détendre.                                                                                                       \n",
              "<span style=\"color: #808000; text-decoration-color: #808000; font-weight: bold\"> • </span><span style=\"font-weight: bold\">Espaces couvert</span> : En cas de pluie, prévoyez des visites d'attractions int                                       \n",
              "</pre>\n"
            ]
          },
          "metadata": {}
        }
      ],
      "source": [
        "import requests\n",
        "from rich import print\n",
        "from rich.markdown import Markdown\n",
        "\n",
        "def welcome():\n",
        "  print(\"[bold magenta]Bienvenue sur mon AI Travel Planner Itinéraire ![/bold magenta]\")\n",
        "  print(\"[italic cyan]Préparez-vous à explorer vos prochaines aventures avec style et précision. 🚀[/italic cyan]\")\n",
        "\n",
        "def credit():\n",
        "  print(\"[bold cyan]C'est [bold yellow]Daura Rady[/bold yellow] qui a codé ce magnifique AI Travel Planner ! 🚀[/bold cyan]\")\n",
        "def display_weather(origin,destination):\n",
        "  api_key = \"b4ef58a8d33e0at19ecc55515o71ee6d\"\n",
        "  prompt = (\n",
        "    f\"Vous êtes un expert en voyages et en météorologie 🏖️. Pour un voyage au départ de {origin} vers {destination}, \"\n",
        "    f\"veuillez fournir un rapport détaillé de la météo prévue à {destination} pour les prochains jours. \"\n",
        "    f\"Votre réponse doit inclure :\\n\"\n",
        "    f\"1. Un résumé clair des conditions météorologiques (température, précipitations, vent, etc.) 🌡️🌧️🌬️.\\n\"\n",
        "    f\"2. Des conseils pratiques sur les vêtements et accessoires à emporter en fonction du climat prévu 👕🧥.\\n\"\n",
        "    f\"3. Des recommandations pour profiter au mieux du séjour malgré les conditions météo.\\n\"\n",
        "    f\"4. Des astuces pour se préparer à d'éventuelles variations météo.\\n\"\n",
        "    f\"Merci de fournir un rapport complet, précis et engageant.\"\n",
        ")\n",
        "\n",
        "  context=\"Vous êtes un expert en voyages et en météorologie 🏖️. \"\n",
        "  api_url=f\"https://api.shecodes.io/ai/v1/generate?prompt={prompt}&context={context}&key={api_key}\"\n",
        "\n",
        "  response = requests.get(api_url)\n",
        "  answer = response.json()\n",
        "  md = Markdown(answer[\"answer\"])\n",
        "  print(md)\n",
        "\n",
        "\n",
        "def generate_itinerary(origin, destination, duration):\n",
        "    \"\"\"\n",
        "    Génère un itinéraire de voyage en appelant l'API avec les informations données.\n",
        "\n",
        "    Args:\n",
        "        origin (str): Lieu de départ.\n",
        "        destination (str): Destination.\n",
        "        duration (str): Durée du voyage en jours (sous forme de chaîne, convertie par l'API).\n",
        "    \"\"\"\n",
        "    # Clé API pour l'accès au service\n",
        "    api_key = \"b4ef58a8d33e0at19ecc55515o71ee6d\"\n",
        "\n",
        "    # Construction du prompt en intégrant les paramètres utilisateurs\n",
        "    prompt = (\n",
        "        f\"À partir des informations suivantes : Origine : {origin}, Destination : {destination}, \"\n",
        "        f\"Durée : {duration} jours, générez un itinéraire détaillé et optimisé. \"\n",
        "        \"Votre réponse doit inclure :\\n\"\n",
        "        \"1. Un résumé du trajet 🛣️, avec chaque étape clairement définie.\\n\"\n",
        "        \"2. Les moyens de transport à utiliser (avec horaires de départ et d’arrivée) 🚗✈️.\\n\"\n",
        "        \"3. Des arrêts stratégiques et des suggestions d’activités ou de pauses 📍🏞️.\\n\"\n",
        "        \"4. Une estimation précise des temps de parcours ⏱️ et des correspondances si nécessaire.\\n\"\n",
        "        \"Utilisez des émoticônes pour rendre le plan visuel et engageant.\\n\"\n",
        "        \"Formatez la réponse sous forme de liste numérotée ou tableau pour une lecture facile.\\n\"\n",
        "        \"Merci de fournir un itinéraire complet, ultra précis et orienté vers le confort et l’optimisation du temps.\"\n",
        "    )\n",
        "\n",
        "    # Contexte pour préciser le rôle de l'assistant\n",
        "    context = \"Vous êtes un expert en planification de voyage 🗺️.\"\n",
        "\n",
        "    # Construction de l'URL de l'API en intégrant le prompt, le contexte et la clé API\n",
        "    api_url = f\"https://api.shecodes.io/ai/v1/generate?prompt={prompt}&context={context}&key={api_key}\"\n",
        "\n",
        "    # Envoi de la requête GET à l'API\n",
        "    response = requests.get(api_url)\n",
        "    answer = response.json()\n",
        "\n",
        "    # Utilisation de Markdown pour formater et afficher l'itinéraire de façon visuelle\n",
        "    md = Markdown(answer[\"answer\"])\n",
        "    print(md)\n",
        "\n",
        "def input_user():\n",
        "    welcome()\n",
        "    \"\"\"\n",
        "    Collecte les informations de l'utilisateur pour la génération de l'itinéraire.\n",
        "    \"\"\"\n",
        "    origin = input(\"Entrez le lieu de départ : \").strip()\n",
        "    destination = input(\"Entrez la destination : \").strip()\n",
        "    duration = input(\"Entrez la durée du voyage (en jours) : \").strip()\n",
        "\n",
        "    # Vérification simple que les champs sont renseignés et que la durée est numérique\n",
        "    if origin and destination and duration.isdigit():\n",
        "        print(\"Calcul de l'itinéraire ! 🚀\")\n",
        "        generate_itinerary(origin, destination, duration)\n",
        "        display_weather(origin,destination)\n",
        "        credit()\n",
        "    else:\n",
        "        print(\"Erreur. Veuillez entrer des informations valides.\")\n",
        "\n",
        "if __name__ == '__main__':\n",
        "    input_user()"
      ]
    },
    {
      "cell_type": "code",
      "source": [],
      "metadata": {
        "id": "nXbjieNSNlPL"
      },
      "execution_count": null,
      "outputs": []
    }
  ]
}